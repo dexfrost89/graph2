{
 "cells": [
  {
   "cell_type": "code",
   "execution_count": 5,
   "metadata": {
    "collapsed": true
   },
   "outputs": [],
   "source": [
    "import networkx as nx\n",
    "import pandas as pd"
   ]
  },
  {
   "cell_type": "markdown",
   "metadata": {},
   "source": [
    "Загружаю ксль файл 40 минут"
   ]
  },
  {
   "cell_type": "code",
   "execution_count": 7,
   "metadata": {
    "collapsed": false
   },
   "outputs": [],
   "source": [
    "dataset = pd.read_excel('globalterrorismdb_0718dist.xlsx')"
   ]
  },
  {
   "cell_type": "markdown",
   "metadata": {
    "collapsed": false
   },
   "source": [
    "Выделяю нужные мне айдишники"
   ]
  },
  {
   "cell_type": "code",
   "execution_count": 232,
   "metadata": {
    "collapsed": false
   },
   "outputs": [
    {
     "name": "stdout",
     "output_type": "stream",
     "text": [
      "3242 5076\n"
     ]
    }
   ],
   "source": [
    "g1 = []\n",
    "g2 = []\n",
    "for i in range(len(dataset['eventid'])):\n",
    "    if(dataset['iyear'][i] == 2007):\n",
    "        g1.append([dataset['iyear'][i], dataset['eventid'][i], dataset['related'][i]])\n",
    "    if(dataset['iyear'][i] == 2011):\n",
    "        g2.append([dataset['iyear'][i], dataset['eventid'][i], dataset['related'][i]])\n",
    "print(len(g1), len(g2))"
   ]
  },
  {
   "cell_type": "markdown",
   "metadata": {},
   "source": [
    "Составляю начальные графы"
   ]
  },
  {
   "cell_type": "code",
   "execution_count": 233,
   "metadata": {
    "collapsed": false
   },
   "outputs": [],
   "source": [
    "graph1 = nx.Graph()\n",
    "for i in g1:\n",
    "    if(str(i[2])!= 'nan'):\n",
    "        for j in i[2].split(', '):\n",
    "            if(i[1] != int(j) and i[1] < int(j)):\n",
    "                graph1.add_edge(i[1], int(j))"
   ]
  },
  {
   "cell_type": "code",
   "execution_count": 234,
   "metadata": {
    "collapsed": false
   },
   "outputs": [],
   "source": [
    "graph2 = nx.Graph()\n",
    "for i in g2:\n",
    "    if(str(i[2])!= 'nan'):\n",
    "        for j in i[2].split(', '):\n",
    "            if(i[1] != int(j) and i[1] < int(j)):\n",
    "                graph2.add_edge(i[1], int(j))\n"
   ]
  },
  {
   "cell_type": "markdown",
   "metadata": {},
   "source": [
    "Выделяю компоненты связанности в этих графах"
   ]
  },
  {
   "cell_type": "code",
   "execution_count": 235,
   "metadata": {
    "collapsed": false
   },
   "outputs": [],
   "source": [
    "vis1 = dict()\n",
    "vis2 = dict()\n",
    "for i in graph1.nodes:\n",
    "    vis1[i] = 0\n",
    "for i in graph2.nodes:\n",
    "    vis2[i] = 0"
   ]
  },
  {
   "cell_type": "code",
   "execution_count": 236,
   "metadata": {
    "collapsed": false
   },
   "outputs": [],
   "source": [
    "def dfs1(i, c):\n",
    "    global vis1\n",
    "    vis1[i] = c\n",
    "    for j in graph1.edges(i):\n",
    "        if(vis1[j[1]] == 0):\n",
    "            dfs1(j[1], c)"
   ]
  },
  {
   "cell_type": "code",
   "execution_count": 237,
   "metadata": {
    "collapsed": false
   },
   "outputs": [],
   "source": [
    "col1 = 0\n",
    "for i in graph1.nodes:\n",
    "    if(vis1[i] == 0):\n",
    "        col1 += 1\n",
    "        dfs1(i, col1)"
   ]
  },
  {
   "cell_type": "code",
   "execution_count": 238,
   "metadata": {
    "collapsed": false
   },
   "outputs": [],
   "source": [
    "def dfs2(i, c):\n",
    "    global vis2\n",
    "    vis2[i] = c\n",
    "    for j in graph2.edges(i):\n",
    "        if(vis2[j[1]] == 0):\n",
    "            dfs2(j[1], c)"
   ]
  },
  {
   "cell_type": "code",
   "execution_count": 239,
   "metadata": {
    "collapsed": false
   },
   "outputs": [],
   "source": [
    "col2 = 0\n",
    "for i in graph2.nodes:\n",
    "    if(vis2[i] == 0):\n",
    "        col2 += 1\n",
    "        dfs2(i, col2)"
   ]
  },
  {
   "cell_type": "code",
   "execution_count": 240,
   "metadata": {
    "collapsed": false
   },
   "outputs": [],
   "source": [
    "comps1 = [0] * (col1 + 1)\n",
    "comps2 = [0] * (col2 + 1)\n",
    "for i in vis1:\n",
    "    comps1[vis1[i]] += 1\n",
    "for i in vis2:\n",
    "    comps2[vis2[i]] += 1"
   ]
  },
  {
   "cell_type": "markdown",
   "metadata": {},
   "source": [
    "Выделяю компоненты максимального размера"
   ]
  },
  {
   "cell_type": "code",
   "execution_count": 241,
   "metadata": {
    "collapsed": false
   },
   "outputs": [],
   "source": [
    "for i in range(len(comps1)):\n",
    "    comps1[i] = [comps1[i], i]\n",
    "for i in range(len(comps2)):\n",
    "    comps2[i] = [comps2[i], i]\n",
    "comps1.sort()\n",
    "comps2.sort()"
   ]
  },
  {
   "cell_type": "code",
   "execution_count": 242,
   "metadata": {
    "collapsed": false
   },
   "outputs": [],
   "source": [
    "verts1 = dict()\n",
    "verts2 = dict()\n",
    "compcol1 = []\n",
    "compcol2 = []\n",
    "for i in range(-1, -11, -1):\n",
    "    compcol1.append(comps1[i][1])\n",
    "    compcol2.append(comps2[i][1])\n",
    "    verts1[comps1[i][1]] = 0\n",
    "    verts2[comps2[i][1]] = 0"
   ]
  },
  {
   "cell_type": "markdown",
   "metadata": {},
   "source": [
    "Тут я связываю 10 самых больших компонент в граф самым простым способом: последовательно. \n",
    "Однако после я изменил этот способ. Я их стал связывать в дерево клик(то есть для 10 клик добавляю 9 ребер чтобы граф стал\n",
    "связанным). Мосты я выпускал из одной и той же вершины для каждой клики. Это можно расширить выпуская из случайной вершины\n",
    "клики. Это немного усложнит вычисление GED. Однако остальные алгоритмы не пострадают."
   ]
  },
  {
   "cell_type": "code",
   "execution_count": 243,
   "metadata": {
    "collapsed": false
   },
   "outputs": [],
   "source": [
    "workgra1 = nx.Graph()\n",
    "for i in vis1:\n",
    "    if(vis1[i] in compcol1):\n",
    "        verts1[vis1[i]] = i\n",
    "        workgra1.add_node(i)\n",
    "workgra2 = nx.Graph()\n",
    "for i in vis2:\n",
    "    if(vis2[i] in compcol2):\n",
    "        verts2[vis2[i]] = i\n",
    "        workgra2.add_node(i)"
   ]
  },
  {
   "cell_type": "code",
   "execution_count": 109,
   "metadata": {
    "collapsed": false
   },
   "outputs": [],
   "source": [
    "for i in workgra1.nodes:\n",
    "    for j in graph1.edges(i):\n",
    "        if(j[1] > i):\n",
    "            workgra1.add_edge(i, j[1])\n",
    "for i in range(9):\n",
    "    workgra1.add_edge(list(verts1.items())[i][1], list(verts1.items())[i + 1][1])\n",
    "    \n",
    "for i in workgra2.nodes:\n",
    "    for j in graph2.edges(i):\n",
    "        if(j[1] > i):\n",
    "            workgra2.add_edge(i, j[1])\n",
    "for i in range(9):\n",
    "    workgra2.add_edge(list(verts2.items())[i][1], list(verts2.items())[i + 1][1])"
   ]
  },
  {
   "cell_type": "markdown",
   "metadata": {},
   "source": [
    "Тут я преобразовываю матрицу смежностей. В следующих ячейках я выполняю алгоритм флойда."
   ]
  },
  {
   "cell_type": "code",
   "execution_count": 246,
   "metadata": {
    "collapsed": false
   },
   "outputs": [],
   "source": [
    "amat1 = nx.adj_matrix(workgra1)\n",
    "ammat1 = []\n",
    "for i in range(len(workgra1.nodes)):\n",
    "    ammat1.append([])\n",
    "    for j in range(len(workgra1.nodes)):\n",
    "        ammat1[i].append(amat1[i, j])\n",
    "        if(ammat1[i][j] == 0):\n",
    "            ammat1[i][j] = 1000\n",
    "\n",
    "amat2 = nx.adj_matrix(workgra2)\n",
    "ammat2 = []\n",
    "for i in range(len(workgra2.nodes)):\n",
    "    ammat2.append([])\n",
    "    for j in range(len(workgra2.nodes)):\n",
    "        ammat2[i].append(amat2[i, j])\n",
    "        if(ammat2[i][j] == 0):\n",
    "            ammat2[i][j] = 1000\n"
   ]
  },
  {
   "cell_type": "code",
   "execution_count": 250,
   "metadata": {
    "collapsed": false
   },
   "outputs": [],
   "source": [
    "for i in range(len(ammat1)):\n",
    "    for j in range(len(ammat1)):\n",
    "        for k in range(len(ammat1)):\n",
    "            if(not (i == j and ammat1[i][k] == 1)):\n",
    "                ammat1[i][j] = min(ammat1[i][j], ammat1[i][k] + ammat1[k][j])\n",
    "                ammat1[j][i] = min(ammat1[j][i], ammat1[i][k] + ammat1[k][j])\n",
    "                if(ammat1[i][j] != ammat1[j][i]):\n",
    "                    print('wat')"
   ]
  },
  {
   "cell_type": "code",
   "execution_count": 251,
   "metadata": {
    "collapsed": false
   },
   "outputs": [],
   "source": [
    "for i in range(len(ammat2)):\n",
    "    for j in range(len(ammat2)):\n",
    "        for k in range(len(ammat2)):\n",
    "            if(not (i == j and ammat2[i][k] == 1)):\n",
    "                ammat2[i][j] = min(ammat2[i][j], ammat2[i][k] + ammat2[k][j])\n",
    "                ammat2[j][i] = min(ammat2[j][i], ammat2[i][k] + ammat2[k][j])\n",
    "                if(ammat2[i][j] != ammat2[j][i]):\n",
    "                    print('wat')"
   ]
  },
  {
   "cell_type": "markdown",
   "metadata": {},
   "source": [
    "Тут я получаю Диаметр для графа и eccentricity. Я вывожу две строчки для двух графов. В каждой строчке первой идет Диаметр\n",
    "затем идет отстортированный список eccentricity"
   ]
  },
  {
   "cell_type": "code",
   "execution_count": 252,
   "metadata": {
    "collapsed": false
   },
   "outputs": [
    {
     "name": "stdout",
     "output_type": "stream",
     "text": [
      "8 4 5 5 5 5 5 5 5 5 5 5 5 5 6 6 6 6 6 6 6 6 6 6 6 6 6 6 6 6 6 6 6 6 6 7 7 7 7 7 7 7 7 7 7 7 7 7 7 7 7 7 7 7 7 7 7 7 7 7 8 8 8 8 8 8 8 8 8 8 8 8 8 8\n",
      "8 4 5 5 5 5 5 5 5 5 5 6 6 6 6 6 6 6 6 6 6 6 6 6 6 6 6 6 6 6 6 6 6 6 7 7 7 7 7 7 7 7 7 7 7 7 7 7 7 7 7 7 7 7 7 7 7 7 7 7 7 7 8 8 8 8 8 8 8 8 8 8 8 8 8 8 8\n"
     ]
    }
   ],
   "source": [
    "diam1 = max(ammat1[0])\n",
    "eccentricity1 = []\n",
    "for i in ammat1:\n",
    "    diam1 = max(diam1, max(i))\n",
    "    eccentricity1.append(max(i))\n",
    "\n",
    "eccentricity1.sort()\n",
    "\n",
    "diam2 = max(ammat2[0])\n",
    "eccentricity2 = []\n",
    "for i in ammat2:\n",
    "    diam2 = max(diam2, max(i))\n",
    "    eccentricity2.append(max(i))\n",
    "\n",
    "eccentricity2.sort()\n",
    "\n",
    "print(diam1, ' '.join(map(str, eccentricity1)))\n",
    "print(diam2, ' '.join(map(str, eccentricity2)))"
   ]
  },
  {
   "cell_type": "markdown",
   "metadata": {},
   "source": [
    "Тут я вывожу periphery для обеих графов"
   ]
  },
  {
   "cell_type": "code",
   "execution_count": 253,
   "metadata": {
    "collapsed": false
   },
   "outputs": [
    {
     "name": "stdout",
     "output_type": "stream",
     "text": [
      "14 15\n"
     ]
    }
   ],
   "source": [
    "per1 = 0\n",
    "for i in eccentricity1:\n",
    "    if(i == diam1):\n",
    "        per1 += 1\n",
    "\n",
    "per2 = 0\n",
    "for i in eccentricity2:\n",
    "    if(i == diam2):\n",
    "        per2 += 1       \n",
    "\n",
    "print(per1, per2)"
   ]
  },
  {
   "cell_type": "markdown",
   "metadata": {},
   "source": [
    "Тут я честно считаю минимальные циклы для графов. Это малоосмысленно тк в каждой клике найдется оч много циклов\n",
    "размера 3."
   ]
  },
  {
   "cell_type": "code",
   "execution_count": 254,
   "metadata": {
    "collapsed": false
   },
   "outputs": [
    {
     "name": "stdout",
     "output_type": "stream",
     "text": [
      "3\n"
     ]
    },
    {
     "name": "stderr",
     "output_type": "stream",
     "text": [
      "<ipython-input-254-e8a297920867>:8: SyntaxWarning: name 'ans' is used prior to global declaration\n",
      "  global ans\n"
     ]
    }
   ],
   "source": [
    "stak = []\n",
    "ans = 1000\n",
    "vis1 = dict()\n",
    "\n",
    "def dfs(i):\n",
    "    if(ans == 3):\n",
    "        return\n",
    "    global ans\n",
    "    global stak\n",
    "    global vis1\n",
    "    vis1[i] = True\n",
    "    stak.append(i)\n",
    "    if(len(stak) >= 3):\n",
    "        for j in workgra1.edges(i):\n",
    "            if(j[1] in stak[:len(stak) - 2]):\n",
    "                ans = min(ans, len(stak) - stak.index(j[1]))\n",
    "                \n",
    "    for j in workgra1.edges(i):\n",
    "        if(not j[1] in vis1.keys()):\n",
    "            dfs(j[1])\n",
    "            if(ans == 3):\n",
    "                return\n",
    "    stak.remove(i)\n",
    "\n",
    "dfs(list(workgra1.nodes())[0])\n",
    "print(ans)"
   ]
  },
  {
   "cell_type": "code",
   "execution_count": 255,
   "metadata": {
    "collapsed": false,
    "scrolled": true
   },
   "outputs": [
    {
     "name": "stdout",
     "output_type": "stream",
     "text": [
      "3\n"
     ]
    },
    {
     "name": "stderr",
     "output_type": "stream",
     "text": [
      "<ipython-input-255-051c976ccf98>:8: SyntaxWarning: name 'ans' is used prior to global declaration\n",
      "  global ans\n"
     ]
    }
   ],
   "source": [
    "stak = []\n",
    "ans = 1000\n",
    "vis1 = dict()\n",
    "\n",
    "def dfs(i):\n",
    "    if(ans == 3):\n",
    "        return\n",
    "    global ans\n",
    "    global stak\n",
    "    global vis1\n",
    "    vis1[i] = True\n",
    "    stak.append(i)\n",
    "    if(len(stak) >= 3):\n",
    "        for j in workgra2.edges(i):\n",
    "            if(j[1] in stak[:len(stak) - 2]):\n",
    "                ans = min(ans, len(stak) - stak.index(j[1]))\n",
    "                \n",
    "    for j in workgra2.edges(i):\n",
    "        if(not j[1] in vis1.keys()):\n",
    "            dfs(j[1])\n",
    "            if(ans == 3):\n",
    "                return\n",
    "    stak.remove(i)\n",
    "\n",
    "dfs(list(workgra2.nodes())[0])\n",
    "print(ans)"
   ]
  },
  {
   "cell_type": "markdown",
   "metadata": {},
   "source": [
    "Тут более сложное создание графов, о котором я писал выше."
   ]
  },
  {
   "cell_type": "code",
   "execution_count": 244,
   "metadata": {
    "collapsed": true
   },
   "outputs": [],
   "source": [
    "workgra1 = nx.Graph()\n",
    "for i in vis1:\n",
    "    if(vis1[i] in compcol1):\n",
    "        verts1[vis1[i]] = i\n",
    "        workgra1.add_node(i)\n",
    "workgra2 = nx.Graph()\n",
    "for i in vis2:\n",
    "    if(vis2[i] in compcol2):\n",
    "        verts2[vis2[i]] = i\n",
    "        workgra2.add_node(i)"
   ]
  },
  {
   "cell_type": "code",
   "execution_count": 245,
   "metadata": {
    "collapsed": false
   },
   "outputs": [],
   "source": [
    "for i in workgra1.nodes:\n",
    "    for j in graph1.edges(i):\n",
    "        if(j[1] > i):\n",
    "            workgra1.add_edge(i, j[1])\n",
    "added = [compcol1[0]]\n",
    "notin = compcol1[1:]\n",
    "compgra1 = nx.Graph()\n",
    "for i in compcol1:\n",
    "    compgra1.add_node(i)\n",
    "\n",
    "from random import randint\n",
    "for i in range(9):\n",
    "    a = randint(0, i)\n",
    "    b = randint(0, 9 - i - 1)\n",
    "    compgra1.add_edge(added[a], notin[b])\n",
    "    workgra1.add_edge(verts1[added[a]], verts1[notin[b]])\n",
    "    added.append(notin[b])\n",
    "    notin.remove(notin[b])\n",
    "    \n",
    "for i in workgra2.nodes:\n",
    "    for j in graph2.edges(i):\n",
    "        if(j[1] > i):\n",
    "            workgra2.add_edge(i, j[1])\n",
    "added = [compcol2[0]]\n",
    "notin = compcol2[1:]\n",
    "compgra2 = nx.Graph()\n",
    "for i in compcol2:\n",
    "    compgra2.add_node(i)\n",
    "\n",
    "from random import randint\n",
    "for i in range(9):\n",
    "    a = randint(0, i)\n",
    "    b = randint(0, 9 - i - 1)\n",
    "    compgra2.add_edge(added[a], notin[b])\n",
    "    workgra2.add_edge(verts2[added[a]], verts2[notin[b]])\n",
    "    added.append(notin[b])\n",
    "    notin.remove(notin[b])"
   ]
  },
  {
   "cell_type": "markdown",
   "metadata": {},
   "source": [
    "Тут считается GED. Он работает примерно час. Работает он учитывая особенности графа а именно то что оба графа являются\n",
    "кликами соединенными мостами. То есть \"дерево\" клик. Так как оба графа имеют абсолютно разные именования вершин, то я\n",
    "не учитывал переименование вершин как операцию. Так как оба графа имеют примерно равные названия клик + эти клики\n",
    "имеют довольно большие размеры, то я предполагаю, что разумнее сопоставлять графы не по вершинам, а по кликам.\n",
    "То есть первый граф имеет 10 клик и второй имеет 10 клик, первый имеет 9 доп ребер и второй. Следовательно я просто иду\n",
    "по всем возможным переставлениям клик. Затем я иду по каждой паре сопоставленных клик, считаю добавление вершин и ребер.\n",
    "Затем для каждой клики я считаю Ребра из нее в другие клики которые есть в одном графе, но отсутствуют в другом.\n",
    "Я вычисляю минимум из таких расстояний. Для графа, где из одной клики мосты в другие клики могут выходить из разных вершин\n",
    "считаются еще переставление одного конца ребра внутри клики."
   ]
  },
  {
   "cell_type": "code",
   "execution_count": 313,
   "metadata": {
    "collapsed": false
   },
   "outputs": [
    {
     "name": "stdout",
     "output_type": "stream",
     "text": [
      "121\n"
     ]
    }
   ],
   "source": [
    "a = [1, 2, 3, 4, 5, 6, 7, 8, 9, 10]\n",
    "ans = 100000000\n",
    "for i in range(3628800):\n",
    "    eq = dict()\n",
    "    eq1 = dict()\n",
    "    res = 0\n",
    "    for j in range(10):\n",
    "        eq[comps1[j - 10][1]] = comps2[a[j] - 11][1]\n",
    "        eq1[comps2[a[j] - 11][1]] = comps1[j - 10][1]\n",
    "        res += abs(comps1[j - 10][0] - comps2[a[j] - 11][0])\n",
    "        res += abs(comps1[j - 10][0] * (comps1[j - 10][0] - 1) // 2 - comps2[a[j] - 11][0] * (comps2[a[j] - 11][0] - 1) // 2)\n",
    "    for j in compgra1.edges:\n",
    "        if(not ((eq[j[0]], eq[j[1]]) in compgra2.edges)):\n",
    "            res += 1\n",
    "    for j in compgra2.edges:\n",
    "        if(not ((eq1[j[0]], eq1[j[1]]) in compgra1.edges)):\n",
    "            res += 1\n",
    "        \n",
    "    \n",
    "    \n",
    "    ans = min(ans, res)\n",
    "    next_permutation(a)\n",
    "\n",
    "print(ans)"
   ]
  },
  {
   "cell_type": "markdown",
   "metadata": {},
   "source": [
    "Wiener_index для двух графов считаем из матрицы полученной после Флойда"
   ]
  },
  {
   "cell_type": "code",
   "execution_count": 292,
   "metadata": {
    "collapsed": false
   },
   "outputs": [
    {
     "name": "stdout",
     "output_type": "stream",
     "text": [
      "10947\n",
      "11597\n"
     ]
    }
   ],
   "source": [
    "weiner = 0\n",
    "for i in range(len(ammat1)):\n",
    "    for j in range(i + 1, len(ammat1)):\n",
    "        weiner += ammat1[i][j]\n",
    "print(weiner)\n",
    "\n",
    "\n",
    "weiner = 0\n",
    "for i in range(len(ammat2)):\n",
    "    for j in range(i + 1, len(ammat2)):\n",
    "        weiner += ammat2[i][j]\n",
    "print(weiner)"
   ]
  },
  {
   "cell_type": "markdown",
   "metadata": {},
   "source": [
    "Hosoya index также учитывает что граф это дерево клик. Я перебираю наборы ребер соединяющих клики. Добавив очередное ребро\n",
    "я считаю hosoya index для каждой клики(предпосчитано) перемножаю и добавляю к ответу"
   ]
  },
  {
   "cell_type": "code",
   "execution_count": 323,
   "metadata": {
    "collapsed": false
   },
   "outputs": [
    {
     "data": {
      "text/plain": [
       "645820541952923168914014208"
      ]
     },
     "execution_count": 323,
     "metadata": {},
     "output_type": "execute_result"
    }
   ],
   "source": [
    "HOS1 = 0\n",
    "hm = [1, 1, 2, 4, 10, 26, 76, 232, 764, 2620, 9496, 35696, 140152, 568504, 2390480, 10349536, 46206736, 211799312, 997313824, 4809701440]\n",
    "cscscscs1 = comps1[len(comps1) - 10:len(comps1)]\n",
    "cscscs1 = dict()\n",
    "for i in cscscscs1:\n",
    "    cscscs1[i[1]] = i[0]\n",
    "\n",
    "for i in range(2 ** 9):\n",
    "    preres = 0\n",
    "    tst = []\n",
    "    j1 = 0\n",
    "    fl = True\n",
    "    for j in compgra1.edges:\n",
    "        if((i // (2 ** j1)) % 2 == 1):\n",
    "            if(j[0] in tst or j[1] in tst):\n",
    "                fl = False\n",
    "                break\n",
    "            tst.append(j[0])\n",
    "            tst.append(j[1])\n",
    "            preres += 1\n",
    "        j1 += 1\n",
    "    if(fl):\n",
    "        pass\n",
    "    else:\n",
    "        preres = 1\n",
    "        for i in tst:\n",
    "            cscscs1[i] -= 1\n",
    "        for i in cscscs1:\n",
    "            preres *= hm[cscscs1[i]]\n",
    "        for i in tst:\n",
    "            cscscs1[i] += 1\n",
    "        HOS1 += preres\n",
    "HOS1"
   ]
  },
  {
   "cell_type": "code",
   "execution_count": 324,
   "metadata": {
    "collapsed": false
   },
   "outputs": [
    {
     "name": "stdout",
     "output_type": "stream",
     "text": [
      "221636040063236587123517685760\n",
      "222281860605189510292431699968\n"
     ]
    }
   ],
   "source": [
    "HOS2 = 0\n",
    "hm = [1, 1, 2, 4, 10, 26, 76, 232, 764, 2620, 9496, 35696, 140152, 568504, 2390480, 10349536, 46206736, 211799312, 997313824, 4809701440]\n",
    "cscscscs1 = comps2[len(comps2) - 10:len(comps2)]\n",
    "cscscs1 = dict()\n",
    "for i in cscscscs1:\n",
    "    cscscs1[i[1]] = i[0]\n",
    "\n",
    "for i in range(2 ** 9):\n",
    "    preres = 0\n",
    "    tst = []\n",
    "    j1 = 0\n",
    "    fl = True\n",
    "    for j in compgra2.edges:\n",
    "        if((i // (2 ** j1)) % 2 == 1):\n",
    "            if(j[0] in tst or j[1] in tst):\n",
    "                fl = False\n",
    "                break\n",
    "            tst.append(j[0])\n",
    "            tst.append(j[1])\n",
    "            preres += 1\n",
    "        j1 += 1\n",
    "    if(fl):\n",
    "        pass\n",
    "    else:\n",
    "        preres = 1\n",
    "        for i in tst:\n",
    "            cscscs1[i] -= 1\n",
    "        for i in cscscs1:\n",
    "            preres *= hm[cscscs1[i]]\n",
    "        for i in tst:\n",
    "            cscscs1[i] += 1\n",
    "        HOS2 += preres\n",
    "print(HOS2 - HOS1)\n",
    "print(HOS2)"
   ]
  },
  {
   "cell_type": "code",
   "execution_count": 306,
   "metadata": {
    "collapsed": false,
    "scrolled": true
   },
   "outputs": [
    {
     "data": {
      "text/plain": [
       "{201102270008: True, 201102270009: True, 201102270010: True}"
      ]
     },
     "execution_count": 306,
     "metadata": {},
     "output_type": "execute_result"
    }
   ],
   "source": [
    "vis1"
   ]
  },
  {
   "cell_type": "markdown",
   "metadata": {},
   "source": [
    "Тут я считаю expansion для ребер. Также учитываю что граф это дерево клик. Соответственно я перебираю клики которые\n",
    "я добавляю в множество и для набора если его можно учитывать я считаю expansion для него и соответственно вывожу минимум"
   ]
  },
  {
   "cell_type": "code",
   "execution_count": 325,
   "metadata": {
    "collapsed": false
   },
   "outputs": [
    {
     "data": {
      "text/plain": [
       "0.03125"
      ]
     },
     "execution_count": 325,
     "metadata": {},
     "output_type": "execute_result"
    }
   ],
   "source": [
    "exp1 = 100000\n",
    "cscscscs1 = comps1[len(comps1) - 10:len(comps1)]\n",
    "for i in range(1, 2 ** 10):\n",
    "    sm = 0\n",
    "    res = 0\n",
    "    tst = []\n",
    "    for j in range(10):\n",
    "        if((i // (2 ** j)) % 2 == 1):\n",
    "            sm += cscscscs1[j][0]\n",
    "            tst.append(cscscscs1[j][1])\n",
    "    if(sm > len(workgra1.nodes) // 2):\n",
    "        pass\n",
    "    else:\n",
    "        #print(tst)\n",
    "        for j in range(10):\n",
    "            if(cscscscs1[j][1] in tst):\n",
    "                for k in compgra1.edges(cscscscs1[j][1]):\n",
    "                    #print(k)\n",
    "                    if(not k[1] in tst):\n",
    "                        res += 1\n",
    "        exp1 = min(exp1, res / sm)\n",
    "exp1"
   ]
  },
  {
   "cell_type": "code",
   "execution_count": 326,
   "metadata": {
    "collapsed": false
   },
   "outputs": [
    {
     "data": {
      "text/plain": [
       "0.029411764705882353"
      ]
     },
     "execution_count": 326,
     "metadata": {},
     "output_type": "execute_result"
    }
   ],
   "source": [
    "exp1 = 100000\n",
    "cscscscs2 = comps2[len(comps2) - 10:len(comps2)]\n",
    "for i in range(1, 2 ** 10):\n",
    "    sm = 0\n",
    "    res = 0\n",
    "    tst = []\n",
    "    for j in range(10):\n",
    "        if((i // (2 ** j)) % 2 == 1):\n",
    "            sm += cscscscs2[j][0]\n",
    "            tst.append(cscscscs2[j][1])\n",
    "    if(sm > len(workgra2.nodes) // 2):\n",
    "        pass\n",
    "    else:\n",
    "        #print(tst)\n",
    "        for j in range(10):\n",
    "            if(cscscscs2[j][1] in tst):\n",
    "                for k in compgra2.edges(cscscscs2[j][1]):\n",
    "                    #print(k)\n",
    "                    if(not k[1] in tst):\n",
    "                        res += 1\n",
    "        exp1 = min(exp1, res / sm)\n",
    "exp1"
   ]
  },
  {
   "cell_type": "code",
   "execution_count": 283,
   "metadata": {
    "collapsed": false
   },
   "outputs": [
    {
     "data": {
      "text/plain": [
       "True"
      ]
     },
     "execution_count": 283,
     "metadata": {},
     "output_type": "execute_result"
    }
   ],
   "source": [
    "(57, 16) in compgra1.edges"
   ]
  },
  {
   "cell_type": "markdown",
   "metadata": {},
   "source": [
    "Тут я считаю следующую перестановку(используется для GED)"
   ]
  },
  {
   "cell_type": "code",
   "execution_count": 264,
   "metadata": {
    "collapsed": true
   },
   "outputs": [],
   "source": [
    "def next_permutation(L):\n",
    "    '''\n",
    "    Permute the list L in-place to generate the next lexicographic permutation.\n",
    "    Return True if such a permutation exists, else return False.\n",
    "    '''\n",
    "     \n",
    "    n = len(L)\n",
    " \n",
    "    #------------------------------------------------------------\n",
    " \n",
    "    # Step 1: find rightmost position i such that L[i] < L[i+1]\n",
    "    i = n - 2\n",
    "    while i >= 0 and L[i] >= L[i+1]:\n",
    "        i -= 1\n",
    "     \n",
    "    if i == -1:\n",
    "        return False\n",
    " \n",
    "    #------------------------------------------------------------\n",
    " \n",
    "    # Step 2: find rightmost position j to the right of i such that L[j] > L[i]\n",
    "    j = i + 1\n",
    "    while j < n and L[j] > L[i]:\n",
    "        j += 1\n",
    "    j -= 1\n",
    "     \n",
    "    #------------------------------------------------------------\n",
    " \n",
    "    # Step 3: swap L[i] and L[j]\n",
    "    L[i], L[j] = L[j], L[i]\n",
    "     \n",
    "    #------------------------------------------------------------\n",
    " \n",
    "    # Step 4: reverse everything to the right of i\n",
    "    left = i + 1\n",
    "    right = n - 1\n",
    " \n",
    "    while left < right:\n",
    "        L[left], L[right] = L[right], L[left]\n",
    "        left += 1\n",
    "        right -= 1\n",
    "             \n",
    "    return True"
   ]
  },
  {
   "cell_type": "markdown",
   "metadata": {},
   "source": [
    "Тут я считаю Ядро графа как внутренне и внешне устойчивое множество вершин. Берется первая незакинутая вершина. Выкидываем\n",
    "все смежные. Добавляем следующее итд. Усложненный алгоритм, который ищет наибольшее и наименьшее ядро других результатов по\n",
    "размеру недал.(усложненный алгоритм пробует добавить сначала вершины, которые лежат на ребрах, соединяющих клики."
   ]
  },
  {
   "cell_type": "code",
   "execution_count": 319,
   "metadata": {
    "collapsed": false
   },
   "outputs": [
    {
     "name": "stdout",
     "output_type": "stream",
     "text": [
      "[200706130048, 200711280002, 200706070021, 200710010001, 200706080025, 200712260002, 200706010020, 200705270009, 200702130002, 200710310009]\n",
      "[201102270009, 201102020011, 201111160068, 201111040012, 201112250025, 201105110003, 201110250027, 201103140009, 201101100019, 201101090007]\n"
     ]
    }
   ],
   "source": [
    "core1 = []\n",
    "vis111 = dict()\n",
    "for i in workgra1.nodes:\n",
    "    if(i in vis111.keys()):\n",
    "        pass\n",
    "    else:\n",
    "        core1.append(i)\n",
    "        vis111[i] = True\n",
    "        for j in workgra1.edges(i):\n",
    "            vis111[j[1]] = True\n",
    "\n",
    "print(core1)\n",
    "\n",
    "core1 = []\n",
    "vis111 = dict()\n",
    "for i in workgra2.nodes:\n",
    "    if(i in vis111.keys()):\n",
    "        pass\n",
    "    else:\n",
    "        core1.append(i)\n",
    "        vis111[i] = True\n",
    "        for j in workgra2.edges(i):\n",
    "            vis111[j[1]] = True\n",
    "\n",
    "print(core1)"
   ]
  },
  {
   "cell_type": "code",
   "execution_count": 315,
   "metadata": {
    "collapsed": false
   },
   "outputs": [
    {
     "data": {
      "text/plain": [
       "False"
      ]
     },
     "execution_count": 315,
     "metadata": {},
     "output_type": "execute_result"
    }
   ],
   "source": [
    "di = dict()\n",
    "1 in di.keys()"
   ]
  },
  {
   "cell_type": "markdown",
   "metadata": {},
   "source": [
    "## Схожесть на основе результатов"
   ]
  },
  {
   "cell_type": "markdown",
   "metadata": {},
   "source": [
    "Схожесть я посчитал как взвешенную разность между двумя подсчитанными метриками(максимальной и минимальной для каждой метрики) деленную на максимум из этих двух метрик для каждого графа(то есть max(diam) - min(diam) / max(diam))\n",
    "Чем ближе она к 0 тем графы более похожи"
   ]
  },
  {
   "cell_type": "code",
   "execution_count": 328,
   "metadata": {
    "collapsed": false
   },
   "outputs": [],
   "source": [
    "Gedf = 121\n",
    "Di1f = diam1\n",
    "Di2f = diam2\n",
    "Ec1f = eccentricity1\n",
    "Ec2f = eccentricity2\n",
    "Pe1f = 14\n",
    "Pe2f = 15\n",
    "#girth не учитываю\n",
    "Exp1f = 0.03125\n",
    "Exp2f = 0.029411764705882353\n",
    "Wi1f = 10947\n",
    "\n",
    "Wi2f = 11597\n",
    "#HOS1 HOS2\n",
    "Cor1f = [200706130048, 200711280002, 200706070021, 200710010001, 200706080025, 200712260002, 200706010020, 200705270009, 200702130002, 200710310009]\n",
    "Cor2f = [201102270009, 201102020011, 201111160068, 201111040012, 201112250025, 201105110003, 201110250027, 201103140009, 201101100019, 201101090007]"
   ]
  },
  {
   "cell_type": "code",
   "execution_count": 331,
   "metadata": {
    "collapsed": true
   },
   "outputs": [],
   "source": [
    "Dist = (diam2 - diam1) / (diam2) + (Pe2f - Pe1f) / (Pe2f) + (min(Ec1f) - min(Ec2f)) / max(Ec2f) + (Exp2f - Exp1f) / Exp2f + (Wi2f - Wi1f) / Wi2f  + (len(Cor2f) - len(Cor1f)) / len(Cor2f) + (HOS2 - HOS1) / HOS2"
   ]
  },
  {
   "cell_type": "code",
   "execution_count": 333,
   "metadata": {
    "collapsed": false
   },
   "outputs": [
    {
     "data": {
      "text/plain": [
       "0.15104431887791597"
      ]
     },
     "execution_count": 333,
     "metadata": {},
     "output_type": "execute_result"
    }
   ],
   "source": [
    "Dist / 7"
   ]
  }
 ],
 "metadata": {
  "anaconda-cloud": {},
  "kernelspec": {
   "display_name": "Python [Root]",
   "language": "python",
   "name": "Python [Root]"
  },
  "language_info": {
   "codemirror_mode": {
    "name": "ipython",
    "version": 3
   },
   "file_extension": ".py",
   "mimetype": "text/x-python",
   "name": "python",
   "nbconvert_exporter": "python",
   "pygments_lexer": "ipython3",
   "version": "3.5.2"
  }
 },
 "nbformat": 4,
 "nbformat_minor": 0
}
